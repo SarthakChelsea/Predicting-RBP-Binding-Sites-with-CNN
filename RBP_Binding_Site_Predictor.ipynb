{
  "nbformat": 4,
  "nbformat_minor": 0,
  "metadata": {
    "colab": {
      "provenance": []
    },
    "kernelspec": {
      "name": "python3",
      "display_name": "Python 3"
    },
    "language_info": {
      "name": "python"
    }
  },
  "cells": [
    {
      "cell_type": "code",
      "source": [
        "import numpy as np\n",
        "import torch\n",
        "import torch.nn as nn\n",
        "import torch.optim as optim\n",
        "from torch.utils.data import DataLoader, TensorDataset\n",
        "import matplotlib.pyplot as plt"
      ],
      "metadata": {
        "id": "o1RgNWn7yJD1"
      },
      "execution_count": 1,
      "outputs": []
    },
    {
      "cell_type": "code",
      "source": [
        "# Pad or truncate RNA sequence to a fixed length\n",
        "def padding_sequence(seq, max_len=501, repkey='N'):\n",
        "    seq_len = len(seq)\n",
        "    if seq_len < max_len:\n",
        "        gap_len = max_len - seq_len\n",
        "        new_seq = seq + repkey * gap_len\n",
        "    else:\n",
        "        new_seq = seq[:max_len]\n",
        "    return new_seq\n",
        "\n",
        "# Convert RNA sequence to one-hot encoded array\n",
        "def get_RNA_seq_concolutional_array(seq, motif_len=4):\n",
        "    seq = seq.replace('U', 'T')\n",
        "    alpha = 'ACGT'\n",
        "    row = (len(seq) + 2*motif_len - 2)\n",
        "    new_array = np.zeros((row, 4))\n",
        "\n",
        "    for i in range(motif_len-1):\n",
        "        new_array[i] = np.array([0.25]*4)\n",
        "\n",
        "    for i in range(row-3, row):\n",
        "        new_array[i] = np.array([0.25]*4)\n",
        "\n",
        "    for i, val in enumerate(seq):\n",
        "        i = i + motif_len-1\n",
        "        if val not in 'ACGT':\n",
        "            new_array[i] = np.array([0.25]*4)\n",
        "            continue\n",
        "        try:\n",
        "            index = alpha.index(val)\n",
        "            new_array[i][index] = 1\n",
        "        except:\n",
        "            pass\n",
        "    return new_array\n",
        "\n",
        "# Prepare data for 1-channel input to CNN\n",
        "def get_bag_data_1_channel(data, max_len=501):\n",
        "    bags = []\n",
        "    seqs = data[\"seq\"]\n",
        "    labels = data[\"Y\"]\n",
        "    for seq in seqs:\n",
        "        bag_seq = padding_sequence(seq, max_len=max_len)\n",
        "        bag_subt = []\n",
        "        tri_fea = get_RNA_seq_concolutional_array(bag_seq)\n",
        "        bag_subt.append(tri_fea.T)\n",
        "        bags.append(np.array(bag_subt))\n",
        "    return bags, labels\n",
        "\n",
        "# Read RNA sequences from a file\n",
        "def read_seq_graphprot(seq_file, label=1):\n",
        "    seq_list = []\n",
        "    labels = []\n",
        "    with open(seq_file, 'r') as fp:\n",
        "        for line in fp:\n",
        "            if line[0] == '>':\n",
        "                name = line[1:-1]\n",
        "            else:\n",
        "                seq = line[:-1].upper()\n",
        "                seq = seq.replace('T', 'U')\n",
        "                seq_list.append(seq)\n",
        "                labels.append(label)\n",
        "    return seq_list, labels\n",
        "\n",
        "# Read both positive and negative samples\n",
        "def read_data_file(posifile, negafile=None, train=True):\n",
        "    data = dict()\n",
        "    seqs, labels = read_seq_graphprot(posifile, label=1)\n",
        "    if negafile:\n",
        "        seqs2, labels2 = read_seq_graphprot(negafile, label=0)\n",
        "        seqs = seqs + seqs2\n",
        "        labels = labels + labels2\n",
        "    data[\"seq\"] = seqs\n",
        "    data[\"Y\"] = np.array(labels)\n",
        "    return data\n",
        "\n",
        "# Prepare the final dataset\n",
        "def get_data(posi, nega=None, channel=7, window_size=500, train=True):\n",
        "    data = read_data_file(posi, nega, train=train)\n",
        "    train_bags, label = get_bag_data_1_channel(data)\n",
        "    return train_bags, label\n",
        "\n",
        "# Load and prepare data\n",
        "f, l = get_data('./CLIPSEQ_AGO2.train.positives.fa', './CLIPSEQ_AGO2.train.negatives.fa', channel=1)\n",
        "f_test, l_test = get_data('./CLIPSEQ_AGO2.ls.positives.fa','CLIPSEQ_AGO2.ls.negatives.fa', channel=1, train=False)\n",
        "\n"
      ],
      "metadata": {
        "id": "3JG-SBNVyNwU"
      },
      "execution_count": 2,
      "outputs": []
    },
    {
      "cell_type": "code",
      "source": [
        "# After converting the data to a numpy array\n",
        "f = np.array(f)  # Shape is [92346, 107, 4, 1]\n",
        "f = np.swapaxes(f, 1, 3)  # Swap the height and channel axis: New shape will be [92346, 4, 1, 107]\n",
        "f = np.swapaxes(f, 2, 3)  # Final swap to correct the width position: Final shape will be [92346, 4, 107, 1]\n",
        "\n",
        "f_test = np.array(f_test)\n",
        "f_test = np.swapaxes(f_test, 1, 3)\n",
        "f_test = np.swapaxes(f_test, 2, 3)\n",
        "\n",
        "# Convert numpy arrays to PyTorch tensors\n",
        "f = torch.FloatTensor(f)  # Final shape: [92346, 4, 107, 1]\n",
        "l = torch.FloatTensor(l)\n",
        "f_test = torch.FloatTensor(f_test)\n",
        "l_test = torch.FloatTensor(l_test)\n",
        "\n",
        "# Create DataLoader objects\n",
        "train_dataset = TensorDataset(f, l)\n",
        "train_loader = DataLoader(train_dataset, batch_size=256, shuffle=True)\n",
        "test_dataset = TensorDataset(f_test, l_test)\n",
        "test_loader = DataLoader(test_dataset, batch_size=256, shuffle=False)\n"
      ],
      "metadata": {
        "id": "BWiJNsvk7x6v"
      },
      "execution_count": 3,
      "outputs": []
    },
    {
      "cell_type": "code",
      "source": [
        "print('f: ',f.shape)\n",
        "print('l: ',l.shape)\n",
        "print('f_test: ',f_test.shape)\n",
        "print('l_test: ',l_test.shape)"
      ],
      "metadata": {
        "colab": {
          "base_uri": "https://localhost:8080/"
        },
        "id": "fYyj746Y6ILr",
        "outputId": "5de5abda-9c45-4c8b-d663-3ad5cba1828e"
      },
      "execution_count": 8,
      "outputs": [
        {
          "output_type": "stream",
          "name": "stdout",
          "text": [
            "f:  torch.Size([29686, 507, 1, 4])\n",
            "l:  torch.Size([29686])\n",
            "f_test:  torch.Size([1000, 507, 1, 4])\n",
            "l_test:  torch.Size([1000])\n"
          ]
        }
      ]
    },
    {
      "cell_type": "code",
      "execution_count": 19,
      "metadata": {
        "id": "UuYZK0KOx6G0"
      },
      "outputs": [],
      "source": [
        "import torch\n",
        "import torch.nn as nn\n",
        "import torch.nn.functional as F\n",
        "\n",
        "class RBPBindingModel(nn.Module):\n",
        "    def __init__(self):\n",
        "        super(RBPBindingModel, self).__init__()\n",
        "        self.conv1 = nn.Conv2d(4, 128, kernel_size=(10, 1), padding=(5, 0))\n",
        "        self.dropout1 = nn.Dropout(0.25)\n",
        "        self.pool1 = nn.MaxPool2d(kernel_size=(3, 1))\n",
        "\n",
        "        self.conv2 = nn.Conv2d(128, 128, kernel_size=(10, 1), padding=(5, 0))\n",
        "        self.dropout2 = nn.Dropout(0.25)\n",
        "        self.pool2 = nn.MaxPool2d(kernel_size=(3, 1))\n",
        "\n",
        "        self.conv3 = nn.Conv2d(128, 256, kernel_size=(5, 1), padding=(2, 0))\n",
        "        self.dropout3 = nn.Dropout(0.25)\n",
        "\n",
        "        self.global_avg_pool = nn.AdaptiveAvgPool2d((1, 1))\n",
        "\n",
        "        self.fc1 = nn.Linear(256, 128)\n",
        "        self.dropout4 = nn.Dropout(0.5)\n",
        "        self.fc2 = nn.Linear(128, 1)\n",
        "\n",
        "    def forward(self, x):\n",
        "        # x shape: (batch_size, 507, 1, 4)\n",
        "        x = x.permute(0, 3, 1, 2)  # Reshape to (batch_size, 4, 507, 1)\n",
        "\n",
        "        x = F.relu(self.conv1(x))\n",
        "        x = self.dropout1(x)\n",
        "        x = self.pool1(x)\n",
        "\n",
        "        x = F.relu(self.conv2(x))\n",
        "        x = self.dropout2(x)\n",
        "        x = self.pool2(x)\n",
        "\n",
        "        x = F.relu(self.conv3(x))\n",
        "        x = self.dropout3(x)\n",
        "\n",
        "        x = self.global_avg_pool(x)\n",
        "        x = x.view(x.size(0), -1)\n",
        "\n",
        "        x = F.relu(self.fc1(x))\n",
        "        x = self.dropout4(x)\n",
        "        x = torch.sigmoid(self.fc2(x))\n",
        "\n",
        "        return x\n",
        "\n",
        "# Instantiate the model\n",
        "model = RBPBindingModel()"
      ]
    },
    {
      "cell_type": "code",
      "source": [
        "# Initialize model, loss function, and optimizer\n",
        "model = RBPBindingModel()\n",
        "criterion = nn.BCELoss()\n",
        "optimizer = optim.SGD(model.parameters(), lr=0.001)\n",
        "scheduler = optim.lr_scheduler.ReduceLROnPlateau(optimizer, 'min', patience=5)\n",
        "num_epochs = 10\n",
        "train_losses = []\n",
        "val_losses = []\n",
        "\n",
        "# Early stopping parameters\n",
        "patience = 3\n",
        "best_val_loss = float('inf')\n",
        "epochs_without_improvement = 0\n",
        "\n",
        "for epoch in range(num_epochs):\n",
        "    model.train()\n",
        "    train_loss = 0.0\n",
        "    for batch_x, batch_y in train_loader:\n",
        "        optimizer.zero_grad()\n",
        "        outputs = model(batch_x).squeeze()\n",
        "        loss = criterion(outputs, batch_y)\n",
        "        loss.backward()\n",
        "        optimizer.step()\n",
        "        train_loss += loss.item()\n",
        "    train_loss /= len(train_loader)\n",
        "    train_losses.append(train_loss)\n",
        "\n",
        "    model.eval()\n",
        "    val_loss = 0.0\n",
        "    with torch.no_grad():\n",
        "        for batch_x, batch_y in test_loader:\n",
        "            outputs = model(batch_x).squeeze()\n",
        "            loss = criterion(outputs, batch_y)\n",
        "            val_loss += loss.item()\n",
        "    val_loss /= len(test_loader)\n",
        "    val_losses.append(val_loss)\n",
        "\n",
        "    print(f'Epoch {epoch+1}/{num_epochs}, Train Loss: {train_loss:.4f}, Val Loss: {val_loss:.4f}')\n",
        "\n",
        "    # Check for early stopping\n",
        "    if val_loss < best_val_loss:\n",
        "        best_val_loss = val_loss\n",
        "        epochs_without_improvement = 0\n",
        "    else:\n",
        "        epochs_without_improvement += 1\n",
        "        if epochs_without_improvement >= patience:\n",
        "            print(\"Early stopping triggered\")\n",
        "            break\n"
      ],
      "metadata": {
        "colab": {
          "base_uri": "https://localhost:8080/"
        },
        "id": "XuM-ndYmybju",
        "outputId": "c578d915-c6d0-40c7-db12-19b8ec14d557"
      },
      "execution_count": 21,
      "outputs": [
        {
          "output_type": "stream",
          "name": "stdout",
          "text": [
            "Epoch 1/10, Train Loss: 0.6914, Val Loss: 0.6929\n",
            "Epoch 2/10, Train Loss: 0.6911, Val Loss: 0.6929\n",
            "Epoch 3/10, Train Loss: 0.6911, Val Loss: 0.6929\n",
            "Epoch 4/10, Train Loss: 0.6908, Val Loss: 0.6929\n",
            "Epoch 5/10, Train Loss: 0.6908, Val Loss: 0.6930\n",
            "Early stopping triggered\n"
          ]
        }
      ]
    },
    {
      "cell_type": "code",
      "source": [
        "   # Visualize training and validation loss\n",
        "plt.figure(figsize=(10, 5))\n",
        "plt.plot(train_losses, label='Training Loss')\n",
        "plt.plot(val_losses, label='Validation Loss')\n",
        "plt.xlabel('Epoch')\n",
        "plt.ylabel('Loss')\n",
        "plt.title('Training and Validation Loss')\n",
        "plt.legend()\n",
        "plt.show()"
      ],
      "metadata": {
        "id": "OMhR0FXMydha",
        "colab": {
          "base_uri": "https://localhost:8080/",
          "height": 487
        },
        "outputId": "32dce21d-763f-4931-f989-23aa30af6a47"
      },
      "execution_count": 22,
      "outputs": [
        {
          "output_type": "display_data",
          "data": {
            "text/plain": [
              "<Figure size 1000x500 with 1 Axes>"
            ],
            "image/png": "[encoded data removed]"
          },
          "metadata": {}
        }
      ]
    },
    {
      "cell_type": "code",
      "source": [],
      "metadata": {
        "id": "AYBJfFYRYcFk"
      },
      "execution_count": null,
      "outputs": []
    }
  ]
}